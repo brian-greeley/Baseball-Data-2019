{
 "cells": [
  {
   "cell_type": "code",
   "execution_count": 1,
   "metadata": {},
   "outputs": [],
   "source": [
    "from selenium import webdriver\n",
    "from webdriver_manager.chrome import ChromeDriverManager\n",
    "from selenium.webdriver.support.ui import WebDriverWait\n",
    "import pandas as pd\n",
    "from selenium import webdriver\n",
    "chrome_options = webdriver.ChromeOptions()\n",
    "chrome_options.add_experimental_option(\"useAutomationExtension\", False)\n",
    "chrome_options.add_experimental_option(\"excludeSwitches\",[\"enable-automation\"])\n",
    "driver = webdriver.Chrome(options=chrome_options,executable_path='C:\\Windows\\Drivers\\chromedriver')\n",
    "url = 'https://www.mlb.com/scores/'\n",
    "date = '2019-08-01'\n",
    "driver.get(url+date)\n",
    "boxes = WebDriverWait(driver, timeout=3).until(lambda d: d.find_elements_by_class_name('trk-box'))\n",
    "urls = []\n",
    "for box in boxes:\n",
    "    urls.append(box.get_attribute('href'))\n",
    "driver.close()"
   ]
  },
  {
   "cell_type": "code",
   "execution_count": null,
   "metadata": {
    "scrolled": false
   },
   "outputs": [],
   "source": [
    "week = []\n",
    "for url in urls:\n",
    "    driver = webdriver.Chrome(options=chrome_options,executable_path='C:\\Windows\\Drivers\\chromedriver')\n",
    "    driver.get(url)\n",
    "    #title = WebDriverWait(driver, timeout=5).until(lambda d: d.find_element_by_xpath('//*[@id=\"text_matchup\"]/div[1]'))   \n",
    "    title = WebDriverWait(driver, timeout=10).until(lambda d: d.find_element_by_id('text_matchup').find_element_by_class_name('header'))  \n",
    "    title = title.text\n",
    "    tbody_abt = driver.find_element_by_xpath('//*[@id=\"boxscore\"]/div/div/div[1]/section[1]/section/table/tbody')\n",
    "    tbody_hbt = driver.find_element_by_xpath('//*[@id=\"boxscore\"]/div/div/div[1]/section[2]/section/table/tbody')\n",
    "    tbody_apt = driver.find_element_by_xpath('//*[@id=\"boxscore\"]/div/div/div[2]/section[1]/section/table/tbody')\n",
    "    tbody_hpt = driver.find_element_by_xpath('//*[@id=\"boxscore\"]/div/div/div[2]/section[2]/section/table/tbody')\n",
    "    away_batting_totals = tbody_abt.find_elements_by_css_selector('tr')\n",
    "    home_batting_totals = tbody_hbt.find_elements_by_css_selector('tr')\n",
    "    away_pitching_totals = tbody_apt.find_elements_by_css_selector('tr')\n",
    "    home_pitching_totals = tbody_hpt.find_elements_by_css_selector('tr')\n",
    "    away_batting_totals = away_batting_totals[-1]\n",
    "    home_batting_totals = home_batting_totals[-1]\n",
    "    away_pitching_totals = away_pitching_totals[-1]\n",
    "    home_pitching_totals = home_pitching_totals[-1]\n",
    "    away_batting_totals_tds = away_batting_totals.find_elements_by_css_selector('td')\n",
    "    home_batting_totals_tds = home_batting_totals.find_elements_by_css_selector('td')\n",
    "    away_pitching_totals_tds = away_pitching_totals.find_elements_by_css_selector('td')\n",
    "    home_pitching_totals_tds = home_pitching_totals.find_elements_by_css_selector('td')\n",
    "    away_batting_totals = []\n",
    "    for td in away_batting_totals_tds:\n",
    "        away_batting_totals.append(td.text)\n",
    "    home_batting_totals = []\n",
    "    for td in home_batting_totals_tds:\n",
    "        home_batting_totals.append(td.text)\n",
    "    away_pitching_totals = []\n",
    "    for td in away_pitching_totals_tds:\n",
    "        away_pitching_totals.append(td.text)\n",
    "    home_pitching_totals = []\n",
    "    for td in home_pitching_totals_tds:\n",
    "        home_pitching_totals.append(td.text)\n",
    "    clean_abt = away_batting_totals[1:8]\n",
    "    clean_abt = [float(num) for num in clean_abt]\n",
    "    clean_hbt = home_batting_totals[1:8]\n",
    "    clean_hbt = [float(num) for num in clean_hbt]\n",
    "    clean_apt = away_pitching_totals[1:8]\n",
    "    clean_apt = [float(num) for num in clean_apt]\n",
    "    clean_hpt = home_pitching_totals[1:8]\n",
    "    clean_hpt = [float(num) for num in clean_hpt]\n",
    "    away_stats = clean_abt+clean_apt\n",
    "    home_stats = clean_hbt+clean_hpt\n",
    "    win =  1 if home_stats[1]-away_stats[1]>0 else 0\n",
    "    teams = title.split(',')\n",
    "    team1 = teams[0].split()\n",
    "    team2 = teams[1].split()\n",
    "    winner = team1[0]\n",
    "    loser = team2[0]\n",
    "    if(win == 1):\n",
    "        home_stats.append(win)\n",
    "        away_stats.append(0)\n",
    "        home_stats.append(winner)\n",
    "        away_stats.append(loser)\n",
    "    else:\n",
    "        home_stats.append(win)\n",
    "        away_stats.append(1)\n",
    "        home_stats.append(loser)\n",
    "        away_stats.append(winner)\n",
    "    #C = [a - b for a, b in zip(home_stats, away_stats)]\n",
    "    #C.append(win)\n",
    "    week.append(home_stats)\n",
    "    week.append(away_stats)\n",
    "    driver.close()\n",
    "print('Done')"
   ]
  },
  {
   "cell_type": "code",
   "execution_count": 64,
   "metadata": {},
   "outputs": [
    {
     "name": "stdout",
     "output_type": "stream",
     "text": [
      "Done\n"
     ]
    }
   ],
   "source": [
    "import pandas as pd\n",
    "i = 0\n",
    "for stat in week:\n",
    "    if i%2 == 0:\n",
    "        stat.append('Home')\n",
    "    else:\n",
    "        stat.append('Away')\n",
    "    i = i + 1\n",
    "headers = ['AB', 'R', 'H', 'RBI', 'BB', 'SO', 'LOB', 'IP', 'H', 'R','ER', 'BB', 'SO', 'HR', 'W', 'Team', 'Home or Away']\n",
    "df = pd.DataFrame(columns = headers, data = week)\n",
    "print('Done')\n",
    "filename = date+'.csv'\n",
    "df.to_csv(filename, index=False)"
   ]
  },
  {
   "cell_type": "code",
   "execution_count": null,
   "metadata": {},
   "outputs": [],
   "source": []
  }
 ],
 "metadata": {
  "kernelspec": {
   "display_name": "Python 3",
   "language": "python",
   "name": "python3"
  },
  "language_info": {
   "codemirror_mode": {
    "name": "ipython",
    "version": 3
   },
   "file_extension": ".py",
   "mimetype": "text/x-python",
   "name": "python",
   "nbconvert_exporter": "python",
   "pygments_lexer": "ipython3",
   "version": "3.7.6"
  }
 },
 "nbformat": 4,
 "nbformat_minor": 4
}
